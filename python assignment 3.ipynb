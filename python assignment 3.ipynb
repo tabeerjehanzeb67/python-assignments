{
 "cells": [
  {
   "cell_type": "code",
   "execution_count": 5,
   "id": "434f4c54",
   "metadata": {
    "scrolled": true
   },
   "outputs": [
    {
     "name": "stdout",
     "output_type": "stream",
     "text": [
      "Twinkle,twinkle,little,star,\n",
      "\tHow I wonder what you are!\n",
      "\t\tUp above the world so high,\n",
      "\t\tLike a diamond in the sky.\n",
      "Twinkle,twinkle,little,star,\n",
      "\tHow I wonder what you are\n"
     ]
    }
   ],
   "source": [
    "#answer1\n",
    "print(\"Twinkle,twinkle,little,star,\\n\\tHow I wonder what you are!\\n\\t\\tUp above the world so high,\\n\\t\\tLike a diamond in the sky.\\nTwinkle,twinkle,little,star,\\n\\tHow I wonder what you are\")"
   ]
  },
  {
   "cell_type": "code",
   "execution_count": 8,
   "id": "61999d61",
   "metadata": {},
   "outputs": [
    {
     "name": "stdout",
     "output_type": "stream",
     "text": [
      "i am using version :: 3.8.8\n"
     ]
    }
   ],
   "source": [
    "#answer2\n",
    "from platform import python_version\n",
    "print(\"i am using version :: \" + python_version());"
   ]
  },
  {
   "cell_type": "raw",
   "id": "ddd8ab18",
   "metadata": {},
   "source": []
  },
  {
   "cell_type": "code",
   "execution_count": 9,
   "id": "96edd28b",
   "metadata": {},
   "outputs": [
    {
     "name": "stdout",
     "output_type": "stream",
     "text": [
      "enter the radius of circle :: 7\n",
      "The area of circle is ::  167.09\n"
     ]
    }
   ],
   "source": [
    "#answer3\n",
    "radius=float(input(\"enter the radius of circle :: \"))\n",
    "pie=3.41\n",
    "area=pie*radius*radius\n",
    "print(\"The area of circle is :: \",area)"
   ]
  },
  {
   "cell_type": "code",
   "execution_count": 10,
   "id": "e0cd4ea7",
   "metadata": {},
   "outputs": [
    {
     "name": "stdout",
     "output_type": "stream",
     "text": [
      "current date and time is :: \n",
      "2021-10-24   04:50:40\n"
     ]
    }
   ],
   "source": [
    "#answer4\n",
    "import datetime\n",
    "current_data_time=datetime.datetime.now()\n",
    "print(\"current date and time is :: \")\n",
    "print(current_data_time.strftime(\"%Y-%m-%d   %H:%M:%S\"))"
   ]
  },
  {
   "cell_type": "code",
   "execution_count": 13,
   "id": "04b11d70",
   "metadata": {},
   "outputs": [
    {
     "name": "stdout",
     "output_type": "stream",
     "text": [
      "enter first name :: Tabeer\n",
      "enter last name :: jehanzeb\n",
      "jehanzeb Tabeer\n"
     ]
    }
   ],
   "source": [
    "#answer5\n",
    "f_name=input(\"enter first name :: \")\n",
    "l_name=input(\"enter last name :: \")\n",
    "print(l_name +\" \" + f_name)"
   ]
  },
  {
   "cell_type": "code",
   "execution_count": 14,
   "id": "addf6c62",
   "metadata": {},
   "outputs": [
    {
     "name": "stdout",
     "output_type": "stream",
     "text": [
      "enter first input :: 6\n",
      "enter second input :: 8\n",
      "addition is ::  14\n"
     ]
    }
   ],
   "source": [
    "#answer6\n",
    "first_input=int(input(\"enter first input :: \"))\n",
    "second_input=int(input(\"enter second input :: \"))\n",
    "print(\"addition is :: \",first_input+second_input)"
   ]
  },
  {
   "cell_type": "code",
   "execution_count": 15,
   "id": "1f94b24f",
   "metadata": {},
   "outputs": [
    {
     "name": "stdout",
     "output_type": "stream",
     "text": [
      "Enter Eng Marks :: 59\n",
      "Enter Urdu Marks :: 80\n",
      "Enter Isl Marks :: 70\n",
      "Enter Phycis Marks :: 80\n",
      "Enter Math Marks :: 90\n",
      "Percentage is  75.8\n",
      "Grade B\n"
     ]
    }
   ],
   "source": [
    "#answer7\n",
    "Eng_Marks = int(input(\"Enter Eng Marks :: \"))\n",
    "Urdu_Marks = int(input(\"Enter Urdu Marks :: \"))\n",
    "Isl_Marks = int(input(\"Enter Isl Marks :: \"))\n",
    "Phycis_Marks = int(input(\"Enter Phycis Marks :: \"))\n",
    "Math_Marks = int(input(\"Enter Math Marks :: \"))\n",
    "Total_Marks = 500\n",
    "Total_Obtain_Marks = Eng_Marks+Urdu_Marks+Isl_Marks+Phycis_Marks+Math_Marks\n",
    "Percentage = (Total_Obtain_Marks/Total_Marks) *100\n",
    "print(\"Percentage is \",Percentage)\n",
    "if Percentage>=80:\n",
    "    print(\"Grade A\")\n",
    "elif Percentage>=70:\n",
    "    print(\"Grade B\")\n",
    "elif Percentage>=60:\n",
    "    print(\"Grade C\")\n",
    "else:\n",
    "    print(\"Fail\")\n"
   ]
  },
  {
   "cell_type": "code",
   "execution_count": 20,
   "id": "33ccf766",
   "metadata": {},
   "outputs": [
    {
     "name": "stdout",
     "output_type": "stream",
     "text": [
      "Enter Number :: 5\n",
      "5  is Odd Number\n"
     ]
    }
   ],
   "source": [
    "#answer8\n",
    "Number = int(input(\"Enter Number :: \"))\n",
    "if Number%2==0:\n",
    "    print(Number,\" is Even Number\")\n",
    "else:\n",
    "    print(Number,\" is Odd Number\")\n",
    "\n",
    "\n"
   ]
  },
  {
   "cell_type": "code",
   "execution_count": 21,
   "id": "a3e5bab9",
   "metadata": {},
   "outputs": [
    {
     "name": "stdout",
     "output_type": "stream",
     "text": [
      "The length of the List Data is ::  7\n"
     ]
    }
   ],
   "source": [
    "#answer9\n",
    "Data = [33,44,6,4,345,76547,34323]\n",
    "print(\"The length of the List Data is :: \",len(Data))"
   ]
  },
  {
   "cell_type": "code",
   "execution_count": 22,
   "id": "8790c326",
   "metadata": {},
   "outputs": [
    {
     "name": "stdout",
     "output_type": "stream",
     "text": [
      "The sum of Numeric items in list is ::  140\n"
     ]
    }
   ],
   "source": [
    "#answer10\n",
    "Data_list = [5,10,15,20,25,30,35]\n",
    "print(\"The sum of Numeric items in list is :: \",sum(Data_list))"
   ]
  },
  {
   "cell_type": "code",
   "execution_count": 23,
   "id": "7ba4fd82",
   "metadata": {},
   "outputs": [
    {
     "name": "stdout",
     "output_type": "stream",
     "text": [
      "The largest Number in list is ::  99\n"
     ]
    }
   ],
   "source": [
    "#answer11\n",
    "data_list = [43,45,56,12,34,56,99]\n",
    "print(\"The largest Number in list is :: \",max(data_list))"
   ]
  },
  {
   "cell_type": "code",
   "execution_count": 24,
   "id": "1ae759ae",
   "metadata": {},
   "outputs": [
    {
     "name": "stdout",
     "output_type": "stream",
     "text": [
      "Following numbers are less than 5 in list :: \n",
      "1\n",
      "1\n",
      "2\n",
      "3\n"
     ]
    }
   ],
   "source": [
    "#answer12\n",
    "data =  [1,1,2,3,5,8,34,55,89]\n",
    "print(\"Following numbers are less than 5 in list :: \")\n",
    "for number in data:\n",
    "    if (number<5):\n",
    "        print(number)"
   ]
  },
  {
   "cell_type": "code",
   "execution_count": null,
   "id": "b29cfeaf",
   "metadata": {},
   "outputs": [],
   "source": []
  }
 ],
 "metadata": {
  "kernelspec": {
   "display_name": "Python 3",
   "language": "python",
   "name": "python3"
  },
  "language_info": {
   "codemirror_mode": {
    "name": "ipython",
    "version": 3
   },
   "file_extension": ".py",
   "mimetype": "text/x-python",
   "name": "python",
   "nbconvert_exporter": "python",
   "pygments_lexer": "ipython3",
   "version": "3.8.8"
  }
 },
 "nbformat": 4,
 "nbformat_minor": 5
}
